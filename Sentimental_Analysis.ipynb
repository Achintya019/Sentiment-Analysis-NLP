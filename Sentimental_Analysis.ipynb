{
 "cells": [
  {
   "cell_type": "code",
   "execution_count": 1,
   "metadata": {
    "execution": {
     "iopub.execute_input": "2022-12-30T05:39:53.993121Z",
     "iopub.status.busy": "2022-12-30T05:39:53.992489Z",
     "iopub.status.idle": "2022-12-30T05:39:54.002524Z",
     "shell.execute_reply": "2022-12-30T05:39:54.000676Z",
     "shell.execute_reply.started": "2022-12-30T05:39:53.993086Z"
    },
    "id": "6isiiOmcvq0w"
   },
   "outputs": [],
   "source": [
    "import nltk\n",
    "import numpy as np\n",
    "import pandas as pd\n",
    "import matplotlib.pyplot as plt\n",
    "import seaborn as sns\n",
    "from nltk.corpus import stopwords\n",
    "from string import punctuation\n",
    "from nltk.tokenize import word_tokenize\n",
    "from nltk.stem import LancasterStemmer\n",
    "from string import punctuation\n",
    "from nltk.corpus import stopwords\n",
    "from nltk.tokenize import word_tokenize\n",
    "from nltk.stem import LancasterStemmer\n",
    "from nltk.stem.wordnet import WordNetLemmatizer\n",
    "import re\n"
   ]
  },
  {
   "cell_type": "markdown",
   "metadata": {
    "id": "_0KvgJXu7Sud"
   },
   "source": [
    "## Dataset"
   ]
  },
  {
   "cell_type": "code",
   "execution_count": 2,
   "metadata": {
    "colab": {
     "base_uri": "https://localhost:8080/",
     "height": 206
    },
    "execution": {
     "iopub.execute_input": "2022-12-30T05:39:54.006054Z",
     "iopub.status.busy": "2022-12-30T05:39:54.005328Z",
     "iopub.status.idle": "2022-12-30T05:39:57.371846Z",
     "shell.execute_reply": "2022-12-30T05:39:57.370583Z",
     "shell.execute_reply.started": "2022-12-30T05:39:54.005973Z"
    },
    "id": "m4nkmVjuvwT5",
    "outputId": "c6d28287-9963-4468-dac9-6f17dcdaead3"
   },
   "outputs": [
    {
     "data": {
      "text/html": [
       "<div>\n",
       "<style scoped>\n",
       "    .dataframe tbody tr th:only-of-type {\n",
       "        vertical-align: middle;\n",
       "    }\n",
       "\n",
       "    .dataframe tbody tr th {\n",
       "        vertical-align: top;\n",
       "    }\n",
       "\n",
       "    .dataframe thead th {\n",
       "        text-align: right;\n",
       "    }\n",
       "</style>\n",
       "<table border=\"1\" class=\"dataframe\">\n",
       "  <thead>\n",
       "    <tr style=\"text-align: right;\">\n",
       "      <th></th>\n",
       "      <th>Sentiment</th>\n",
       "      <th>id</th>\n",
       "      <th>date</th>\n",
       "      <th>query</th>\n",
       "      <th>user</th>\n",
       "      <th>text</th>\n",
       "    </tr>\n",
       "  </thead>\n",
       "  <tbody>\n",
       "    <tr>\n",
       "      <th>0</th>\n",
       "      <td>0</td>\n",
       "      <td>1467810672</td>\n",
       "      <td>Mon Apr 06 22:19:49 PDT 2009</td>\n",
       "      <td>NO_QUERY</td>\n",
       "      <td>scotthamilton</td>\n",
       "      <td>is upset that he can't update his Facebook by ...</td>\n",
       "    </tr>\n",
       "    <tr>\n",
       "      <th>1</th>\n",
       "      <td>0</td>\n",
       "      <td>1467810917</td>\n",
       "      <td>Mon Apr 06 22:19:53 PDT 2009</td>\n",
       "      <td>NO_QUERY</td>\n",
       "      <td>mattycus</td>\n",
       "      <td>@Kenichan I dived many times for the ball. Man...</td>\n",
       "    </tr>\n",
       "    <tr>\n",
       "      <th>2</th>\n",
       "      <td>0</td>\n",
       "      <td>1467811184</td>\n",
       "      <td>Mon Apr 06 22:19:57 PDT 2009</td>\n",
       "      <td>NO_QUERY</td>\n",
       "      <td>ElleCTF</td>\n",
       "      <td>my whole body feels itchy and like its on fire</td>\n",
       "    </tr>\n",
       "    <tr>\n",
       "      <th>3</th>\n",
       "      <td>0</td>\n",
       "      <td>1467811193</td>\n",
       "      <td>Mon Apr 06 22:19:57 PDT 2009</td>\n",
       "      <td>NO_QUERY</td>\n",
       "      <td>Karoli</td>\n",
       "      <td>@nationwideclass no, it's not behaving at all....</td>\n",
       "    </tr>\n",
       "    <tr>\n",
       "      <th>4</th>\n",
       "      <td>0</td>\n",
       "      <td>1467811372</td>\n",
       "      <td>Mon Apr 06 22:20:00 PDT 2009</td>\n",
       "      <td>NO_QUERY</td>\n",
       "      <td>joy_wolf</td>\n",
       "      <td>@Kwesidei not the whole crew</td>\n",
       "    </tr>\n",
       "  </tbody>\n",
       "</table>\n",
       "</div>"
      ],
      "text/plain": [
       "   Sentiment          id                          date     query  \\\n",
       "0          0  1467810672  Mon Apr 06 22:19:49 PDT 2009  NO_QUERY   \n",
       "1          0  1467810917  Mon Apr 06 22:19:53 PDT 2009  NO_QUERY   \n",
       "2          0  1467811184  Mon Apr 06 22:19:57 PDT 2009  NO_QUERY   \n",
       "3          0  1467811193  Mon Apr 06 22:19:57 PDT 2009  NO_QUERY   \n",
       "4          0  1467811372  Mon Apr 06 22:20:00 PDT 2009  NO_QUERY   \n",
       "\n",
       "            user                                               text  \n",
       "0  scotthamilton  is upset that he can't update his Facebook by ...  \n",
       "1       mattycus  @Kenichan I dived many times for the ball. Man...  \n",
       "2        ElleCTF    my whole body feels itchy and like its on fire   \n",
       "3         Karoli  @nationwideclass no, it's not behaving at all....  \n",
       "4       joy_wolf                      @Kwesidei not the whole crew   "
      ]
     },
     "execution_count": 2,
     "metadata": {},
     "output_type": "execute_result"
    }
   ],
   "source": [
    "df = pd.read_csv('training.1600000.processed.noemoticon.csv',\n",
    "                 delimiter=',', encoding='ISO-8859-1')\n",
    "df.columns = ['Sentiment','id','date','query','user','text']\n",
    "df.head()"
   ]
  },
  {
   "cell_type": "code",
   "execution_count": 3,
   "metadata": {
    "execution": {
     "iopub.execute_input": "2022-12-30T05:39:57.373752Z",
     "iopub.status.busy": "2022-12-30T05:39:57.373371Z",
     "iopub.status.idle": "2022-12-30T05:39:57.400453Z",
     "shell.execute_reply": "2022-12-30T05:39:57.399268Z",
     "shell.execute_reply.started": "2022-12-30T05:39:57.373702Z"
    },
    "id": "qFrg-zj3yWPC"
   },
   "outputs": [],
   "source": [
    "df = df[['Sentiment','text']]"
   ]
  },
  {
   "cell_type": "code",
   "execution_count": 4,
   "metadata": {
    "colab": {
     "base_uri": "https://localhost:8080/"
    },
    "execution": {
     "iopub.execute_input": "2022-12-30T05:39:57.403792Z",
     "iopub.status.busy": "2022-12-30T05:39:57.403414Z",
     "iopub.status.idle": "2022-12-30T05:39:57.411897Z",
     "shell.execute_reply": "2022-12-30T05:39:57.410481Z",
     "shell.execute_reply.started": "2022-12-30T05:39:57.403759Z"
    },
    "id": "AiMGvQigyMyr",
    "outputId": "b33a6a7e-1145-4109-a8e2-61384e91c657"
   },
   "outputs": [
    {
     "data": {
      "text/plain": [
       "Index(['Sentiment', 'text'], dtype='object')"
      ]
     },
     "execution_count": 4,
     "metadata": {},
     "output_type": "execute_result"
    }
   ],
   "source": [
    "df.columns"
   ]
  },
  {
   "cell_type": "code",
   "execution_count": 5,
   "metadata": {
    "colab": {
     "base_uri": "https://localhost:8080/"
    },
    "execution": {
     "iopub.execute_input": "2022-12-30T05:39:57.414590Z",
     "iopub.status.busy": "2022-12-30T05:39:57.413960Z",
     "iopub.status.idle": "2022-12-30T05:39:57.441187Z",
     "shell.execute_reply": "2022-12-30T05:39:57.439602Z",
     "shell.execute_reply.started": "2022-12-30T05:39:57.414551Z"
    },
    "id": "PKJSUVefyt5r",
    "outputId": "e6783641-c7b6-4e61-ca83-a0fb2ef0ca7f"
   },
   "outputs": [
    {
     "data": {
      "text/plain": [
       "Sentiment\n",
       "0    799996\n",
       "4    248576\n",
       "Name: count, dtype: int64"
      ]
     },
     "execution_count": 5,
     "metadata": {},
     "output_type": "execute_result"
    }
   ],
   "source": [
    "df.Sentiment.value_counts()"
   ]
  },
  {
   "cell_type": "code",
   "execution_count": 6,
   "metadata": {
    "execution": {
     "iopub.execute_input": "2022-12-30T05:39:57.446129Z",
     "iopub.status.busy": "2022-12-30T05:39:57.444822Z",
     "iopub.status.idle": "2022-12-30T05:39:57.464206Z",
     "shell.execute_reply": "2022-12-30T05:39:57.463181Z",
     "shell.execute_reply.started": "2022-12-30T05:39:57.446070Z"
    },
    "id": "2Kd26i4-7cF9"
   },
   "outputs": [],
   "source": [
    "df['Sentiment'] = df['Sentiment'].replace({4:1})"
   ]
  },
  {
   "cell_type": "markdown",
   "metadata": {
    "id": "K2yYnXGj7j5b"
   },
   "source": [
    "* 0 represent Negative sentiment\n",
    "* 1 represents Positive sentiment"
   ]
  },
  {
   "cell_type": "markdown",
   "metadata": {
    "id": "imSLhWoS7sVJ"
   },
   "source": [
    "#### Visualizing the count"
   ]
  },
  {
   "cell_type": "code",
   "execution_count": 7,
   "metadata": {
    "colab": {
     "base_uri": "https://localhost:8080/",
     "height": 352
    },
    "execution": {
     "iopub.execute_input": "2022-12-30T05:39:57.467071Z",
     "iopub.status.busy": "2022-12-30T05:39:57.466134Z",
     "iopub.status.idle": "2022-12-30T05:39:57.701891Z",
     "shell.execute_reply": "2022-12-30T05:39:57.700837Z",
     "shell.execute_reply.started": "2022-12-30T05:39:57.467005Z"
    },
    "id": "UF7dC61c0iST",
    "outputId": "26f72887-c41c-4e3f-84d3-71c16a70ee1c"
   },
   "outputs": [
    {
     "data": {
      "image/png": "[encoded data removed]",
      "text/plain": [
       "<Figure size 640x480 with 1 Axes>"
      ]
     },
     "metadata": {},
     "output_type": "display_data"
    }
   ],
   "source": [
    "sns.countplot(df[\"Sentiment\"])\n",
    "plt.title(\"Count Plot of Sentiment\")\n",
    "plt.show()"
   ]
  },
  {
   "cell_type": "code",
   "execution_count": 8,
   "metadata": {
    "colab": {
     "base_uri": "https://localhost:8080/"
    },
    "execution": {
     "iopub.execute_input": "2022-12-30T05:39:57.704964Z",
     "iopub.status.busy": "2022-12-30T05:39:57.703596Z",
     "iopub.status.idle": "2022-12-30T05:39:57.773021Z",
     "shell.execute_reply": "2022-12-30T05:39:57.771632Z",
     "shell.execute_reply.started": "2022-12-30T05:39:57.704910Z"
    },
    "id": "QEU-Prdy9TuN",
    "outputId": "dbaa720d-10e6-4767-faf3-fdea16d348e5"
   },
   "outputs": [
    {
     "data": {
      "text/plain": [
       "0"
      ]
     },
     "execution_count": 8,
     "metadata": {},
     "output_type": "execute_result"
    }
   ],
   "source": [
    "df.isna().sum().sum()"
   ]
  },
  {
   "cell_type": "markdown",
   "metadata": {
    "id": "AquvrZe177zY"
   },
   "source": [
    "**Inference: The data is unbalanced therfore we will downsample the data to have same count for each sentiment**"
   ]
  },
  {
   "cell_type": "markdown",
   "metadata": {
    "id": "gkIn7qdtz_0P"
   },
   "source": [
    "## Downsampling the dataset"
   ]
  },
  {
   "cell_type": "code",
   "execution_count": 9,
   "metadata": {
    "execution": {
     "iopub.execute_input": "2022-12-30T05:39:57.776079Z",
     "iopub.status.busy": "2022-12-30T05:39:57.775297Z",
     "iopub.status.idle": "2022-12-30T05:39:57.782057Z",
     "shell.execute_reply": "2022-12-30T05:39:57.780499Z",
     "shell.execute_reply.started": "2022-12-30T05:39:57.776028Z"
    },
    "id": "YVb7UCAKz0D1"
   },
   "outputs": [],
   "source": [
    "from sklearn.utils import resample"
   ]
  },
  {
   "cell_type": "code",
   "execution_count": 10,
   "metadata": {
    "execution": {
     "iopub.execute_input": "2022-12-30T05:39:57.785000Z",
     "iopub.status.busy": "2022-12-30T05:39:57.784594Z",
     "iopub.status.idle": "2022-12-30T05:39:57.861330Z",
     "shell.execute_reply": "2022-12-30T05:39:57.860174Z",
     "shell.execute_reply.started": "2022-12-30T05:39:57.784966Z"
    },
    "id": "mq84twcC0KVv"
   },
   "outputs": [],
   "source": [
    "## majority class 0\n",
    "df_majority = df[df['Sentiment']==0]\n",
    "## minority class 1\n",
    "df_minority = df[df['Sentiment']==1]"
   ]
  },
  {
   "cell_type": "code",
   "execution_count": 11,
   "metadata": {
    "colab": {
     "base_uri": "https://localhost:8080/"
    },
    "execution": {
     "iopub.execute_input": "2022-12-30T05:39:57.863680Z",
     "iopub.status.busy": "2022-12-30T05:39:57.863221Z",
     "iopub.status.idle": "2022-12-30T05:39:57.870376Z",
     "shell.execute_reply": "2022-12-30T05:39:57.869502Z",
     "shell.execute_reply.started": "2022-12-30T05:39:57.863633Z"
    },
    "id": "16vuY3--0q8v",
    "outputId": "0ca11dbd-5572-46cc-90cd-e141f71a0434"
   },
   "outputs": [
    {
     "data": {
      "text/plain": [
       "(248576, 2)"
      ]
     },
     "execution_count": 11,
     "metadata": {},
     "output_type": "execute_result"
    }
   ],
   "source": [
    "df_minority.shape"
   ]
  },
  {
   "cell_type": "code",
   "execution_count": 12,
   "metadata": {
    "execution": {
     "iopub.execute_input": "2022-12-30T05:39:57.873012Z",
     "iopub.status.busy": "2022-12-30T05:39:57.871430Z",
     "iopub.status.idle": "2022-12-30T05:39:57.954367Z",
     "shell.execute_reply": "2022-12-30T05:39:57.953027Z",
     "shell.execute_reply.started": "2022-12-30T05:39:57.872976Z"
    },
    "id": "RLhofhRR0gJr"
   },
   "outputs": [],
   "source": [
    "# downsample the majority class\n",
    "df_majority_downsampled = resample(df_majority, \n",
    "                                 replace=False,   \n",
    "                                 n_samples=len(df_minority),    \n",
    "                                 random_state=1234) "
   ]
  },
  {
   "cell_type": "code",
   "execution_count": 13,
   "metadata": {
    "colab": {
     "base_uri": "https://localhost:8080/",
     "height": 206
    },
    "execution": {
     "iopub.execute_input": "2022-12-30T05:39:57.961649Z",
     "iopub.status.busy": "2022-12-30T05:39:57.961243Z",
     "iopub.status.idle": "2022-12-30T05:39:57.999920Z",
     "shell.execute_reply": "2022-12-30T05:39:57.998765Z",
     "shell.execute_reply.started": "2022-12-30T05:39:57.961615Z"
    },
    "id": "w_vuHw3J0zVf",
    "outputId": "d4a0ac95-d587-4b71-d7c7-ca37ec81b575"
   },
   "outputs": [
    {
     "data": {
      "text/html": [
       "<div>\n",
       "<style scoped>\n",
       "    .dataframe tbody tr th:only-of-type {\n",
       "        vertical-align: middle;\n",
       "    }\n",
       "\n",
       "    .dataframe tbody tr th {\n",
       "        vertical-align: top;\n",
       "    }\n",
       "\n",
       "    .dataframe thead th {\n",
       "        text-align: right;\n",
       "    }\n",
       "</style>\n",
       "<table border=\"1\" class=\"dataframe\">\n",
       "  <thead>\n",
       "    <tr style=\"text-align: right;\">\n",
       "      <th></th>\n",
       "      <th>Sentiment</th>\n",
       "      <th>text</th>\n",
       "    </tr>\n",
       "  </thead>\n",
       "  <tbody>\n",
       "    <tr>\n",
       "      <th>74567</th>\n",
       "      <td>0</td>\n",
       "      <td>Wow slept for almost 12hours. Sleepy me!! Uni ...</td>\n",
       "    </tr>\n",
       "    <tr>\n",
       "      <th>668722</th>\n",
       "      <td>0</td>\n",
       "      <td>gets bored with an idea too easily ... like tw...</td>\n",
       "    </tr>\n",
       "    <tr>\n",
       "      <th>286706</th>\n",
       "      <td>0</td>\n",
       "      <td>To my girls - sorry i've been a homebody latel...</td>\n",
       "    </tr>\n",
       "    <tr>\n",
       "      <th>632911</th>\n",
       "      <td>0</td>\n",
       "      <td>BK once again for the weekend...If it wasnt fo...</td>\n",
       "    </tr>\n",
       "    <tr>\n",
       "      <th>356735</th>\n",
       "      <td>0</td>\n",
       "      <td>@DonnieWahlberg Now why didn't you do that las...</td>\n",
       "    </tr>\n",
       "  </tbody>\n",
       "</table>\n",
       "</div>"
      ],
      "text/plain": [
       "        Sentiment                                               text\n",
       "74567           0  Wow slept for almost 12hours. Sleepy me!! Uni ...\n",
       "668722          0  gets bored with an idea too easily ... like tw...\n",
       "286706          0  To my girls - sorry i've been a homebody latel...\n",
       "632911          0  BK once again for the weekend...If it wasnt fo...\n",
       "356735          0  @DonnieWahlberg Now why didn't you do that las..."
      ]
     },
     "execution_count": 13,
     "metadata": {},
     "output_type": "execute_result"
    }
   ],
   "source": [
    "df = pd.concat([df_majority_downsampled, df_minority])\n",
    "df.head()"
   ]
  },
  {
   "cell_type": "code",
   "execution_count": 15,
   "metadata": {
    "colab": {
     "base_uri": "https://localhost:8080/"
    },
    "execution": {
     "iopub.execute_input": "2022-12-30T05:39:58.170953Z",
     "iopub.status.busy": "2022-12-30T05:39:58.170429Z",
     "iopub.status.idle": "2022-12-30T05:39:58.207511Z",
     "shell.execute_reply": "2022-12-30T05:39:58.206541Z",
     "shell.execute_reply.started": "2022-12-30T05:39:58.170902Z"
    },
    "id": "QBT3OGSW09Y-",
    "outputId": "391c74ce-b9b9-405a-bc25-2d882a85ae89"
   },
   "outputs": [
    {
     "name": "stdout",
     "output_type": "stream",
     "text": [
      "497152\n",
      "Wow slept for almost 12hours. Sleepy me!! Uni now, boo! I wanna stay home, drink tea and watch house... \n"
     ]
    }
   ],
   "source": [
    "## remove stopwords and punctuation marks\n",
    "stuff_to_be_removed = list(stopwords.words('english'))+list(punctuation)\n",
    "stemmer = LancasterStemmer()\n",
    "\n",
    "corpus = df['text'].tolist()\n",
    "print(len(corpus))\n",
    "print(corpus[0])"
   ]
  },
  {
   "cell_type": "code",
   "execution_count": 16,
   "metadata": {
    "colab": {
     "base_uri": "https://localhost:8080/"
    },
    "execution": {
     "iopub.execute_input": "2022-12-30T05:39:58.209925Z",
     "iopub.status.busy": "2022-12-30T05:39:58.208661Z",
     "iopub.status.idle": "2022-12-30T05:40:53.146806Z",
     "shell.execute_reply": "2022-12-30T05:40:53.145387Z",
     "shell.execute_reply.started": "2022-12-30T05:39:58.209875Z"
    },
    "id": "-dOQ1PyG1LkX",
    "outputId": "501e2a1e-8566-483b-a884-df0a4da594b9"
   },
   "outputs": [],
   "source": [
    "final_corpus = []\n",
    "final_corpus_joined = []\n",
    "for i in df.index:\n",
    "\n",
    "    text = re.sub('[^a-zA-Z]', ' ', df['text'][i])\n",
    "    #Convert to lowercase\n",
    "    text = text.lower()\n",
    "    #remove tags\n",
    "    text=re.sub(\"&lt;/?.*?&gt;\",\" &lt;&gt; \",text)\n",
    "    \n",
    "    # remove special characters and digits\n",
    "    text=re.sub(\"(\\\\d|\\\\W)+\",\" \",text)\n",
    "    \n",
    "    ##Convert to list from string\n",
    "    text = text.split()\n",
    "\n",
    "    #Lemmatisation\n",
    "    lem = WordNetLemmatizer()\n",
    "    text = [lem.lemmatize(word) for word in text \n",
    "            if not word in stuff_to_be_removed] \n",
    "    text1 = \" \".join(text)\n",
    "    final_corpus.append(text)\n",
    "    final_corpus_joined.append(text1)"
   ]
  },
  {
   "cell_type": "markdown",
   "metadata": {
    "id": "NQvBFJXp850N"
   },
   "source": [
    "#### Storing the cleaned data seperately"
   ]
  },
  {
   "cell_type": "code",
   "execution_count": 17,
   "metadata": {
    "execution": {
     "iopub.execute_input": "2022-12-30T05:40:53.148661Z",
     "iopub.status.busy": "2022-12-30T05:40:53.148307Z",
     "iopub.status.idle": "2022-12-30T05:40:53.322633Z",
     "shell.execute_reply": "2022-12-30T05:40:53.321545Z",
     "shell.execute_reply.started": "2022-12-30T05:40:53.148630Z"
    },
    "id": "B7y8QQKGiZWB"
   },
   "outputs": [],
   "source": [
    "data_cleaned = pd.DataFrame()\n",
    "data_cleaned[\"text\"] = final_corpus_joined\n",
    "data_cleaned[\"Sentiment\"] = df[\"Sentiment\"].values"
   ]
  },
  {
   "cell_type": "code",
   "execution_count": 18,
   "metadata": {
    "colab": {
     "base_uri": "https://localhost:8080/"
    },
    "execution": {
     "iopub.execute_input": "2022-12-30T05:40:53.325085Z",
     "iopub.status.busy": "2022-12-30T05:40:53.324183Z",
     "iopub.status.idle": "2022-12-30T05:40:53.339576Z",
     "shell.execute_reply": "2022-12-30T05:40:53.338317Z",
     "shell.execute_reply.started": "2022-12-30T05:40:53.325049Z"
    },
    "id": "eHmMH15c9a-y",
    "outputId": "5de0fc1f-057b-471f-a5f8-e50d3f908eb0"
   },
   "outputs": [
    {
     "data": {
      "text/plain": [
       "Sentiment\n",
       "0    248576\n",
       "1    248576\n",
       "Name: count, dtype: int64"
      ]
     },
     "execution_count": 18,
     "metadata": {},
     "output_type": "execute_result"
    }
   ],
   "source": [
    "data_cleaned['Sentiment'].value_counts()"
   ]
  },
  {
   "cell_type": "code",
   "execution_count": 19,
   "metadata": {
    "colab": {
     "base_uri": "https://localhost:8080/",
     "height": 206
    },
    "execution": {
     "iopub.execute_input": "2022-12-30T05:40:53.342306Z",
     "iopub.status.busy": "2022-12-30T05:40:53.341753Z",
     "iopub.status.idle": "2022-12-30T05:40:53.354622Z",
     "shell.execute_reply": "2022-12-30T05:40:53.353080Z",
     "shell.execute_reply.started": "2022-12-30T05:40:53.342247Z"
    },
    "id": "yxJ-NU1UijuH",
    "outputId": "43dba2cc-9576-49af-adf3-bee86cf6589b"
   },
   "outputs": [
    {
     "data": {
      "text/html": [
       "<div>\n",
       "<style scoped>\n",
       "    .dataframe tbody tr th:only-of-type {\n",
       "        vertical-align: middle;\n",
       "    }\n",
       "\n",
       "    .dataframe tbody tr th {\n",
       "        vertical-align: top;\n",
       "    }\n",
       "\n",
       "    .dataframe thead th {\n",
       "        text-align: right;\n",
       "    }\n",
       "</style>\n",
       "<table border=\"1\" class=\"dataframe\">\n",
       "  <thead>\n",
       "    <tr style=\"text-align: right;\">\n",
       "      <th></th>\n",
       "      <th>text</th>\n",
       "      <th>Sentiment</th>\n",
       "    </tr>\n",
       "  </thead>\n",
       "  <tbody>\n",
       "    <tr>\n",
       "      <th>0</th>\n",
       "      <td>wow slept almost hour sleepy uni boo wanna sta...</td>\n",
       "      <td>0</td>\n",
       "    </tr>\n",
       "    <tr>\n",
       "      <th>1</th>\n",
       "      <td>get bored idea easily like twitter</td>\n",
       "      <td>0</td>\n",
       "    </tr>\n",
       "    <tr>\n",
       "      <th>2</th>\n",
       "      <td>girl sorry homebody lately dont feel well does...</td>\n",
       "      <td>0</td>\n",
       "    </tr>\n",
       "    <tr>\n",
       "      <th>3</th>\n",
       "      <td>bk weekend wasnt puppy stay as</td>\n",
       "      <td>0</td>\n",
       "    </tr>\n",
       "    <tr>\n",
       "      <th>4</th>\n",
       "      <td>donniewahlberg last night atlanta</td>\n",
       "      <td>0</td>\n",
       "    </tr>\n",
       "  </tbody>\n",
       "</table>\n",
       "</div>"
      ],
      "text/plain": [
       "                                                text  Sentiment\n",
       "0  wow slept almost hour sleepy uni boo wanna sta...          0\n",
       "1                 get bored idea easily like twitter          0\n",
       "2  girl sorry homebody lately dont feel well does...          0\n",
       "3                     bk weekend wasnt puppy stay as          0\n",
       "4                  donniewahlberg last night atlanta          0"
      ]
     },
     "execution_count": 19,
     "metadata": {},
     "output_type": "execute_result"
    }
   ],
   "source": [
    "data_cleaned.head()"
   ]
  },
  {
   "cell_type": "code",
   "execution_count": 20,
   "metadata": {
    "colab": {
     "base_uri": "https://localhost:8080/",
     "height": 206
    },
    "execution": {
     "iopub.execute_input": "2022-12-30T05:40:53.357613Z",
     "iopub.status.busy": "2022-12-30T05:40:53.356964Z",
     "iopub.status.idle": "2022-12-30T05:40:53.734860Z",
     "shell.execute_reply": "2022-12-30T05:40:53.733621Z",
     "shell.execute_reply.started": "2022-12-30T05:40:53.357563Z"
    },
    "id": "HkJRE3-1iyhg",
    "outputId": "8da4f333-06db-4b34-d0d0-151b8189eb2e"
   },
   "outputs": [
    {
     "data": {
      "text/html": [
       "<div>\n",
       "<style scoped>\n",
       "    .dataframe tbody tr th:only-of-type {\n",
       "        vertical-align: middle;\n",
       "    }\n",
       "\n",
       "    .dataframe tbody tr th {\n",
       "        vertical-align: top;\n",
       "    }\n",
       "\n",
       "    .dataframe thead th {\n",
       "        text-align: right;\n",
       "    }\n",
       "</style>\n",
       "<table border=\"1\" class=\"dataframe\">\n",
       "  <thead>\n",
       "    <tr style=\"text-align: right;\">\n",
       "      <th></th>\n",
       "      <th>text</th>\n",
       "      <th>Sentiment</th>\n",
       "    </tr>\n",
       "  </thead>\n",
       "  <tbody>\n",
       "    <tr>\n",
       "      <th>0</th>\n",
       "      <td>[wow, slept, almost, hour, sleepy, uni, boo, w...</td>\n",
       "      <td>0</td>\n",
       "    </tr>\n",
       "    <tr>\n",
       "      <th>1</th>\n",
       "      <td>[get, bored, idea, easily, like, twitter]</td>\n",
       "      <td>0</td>\n",
       "    </tr>\n",
       "    <tr>\n",
       "      <th>2</th>\n",
       "      <td>[girl, sorry, homebody, lately, dont, feel, we...</td>\n",
       "      <td>0</td>\n",
       "    </tr>\n",
       "    <tr>\n",
       "      <th>3</th>\n",
       "      <td>[bk, weekend, wasnt, puppy, stay, as]</td>\n",
       "      <td>0</td>\n",
       "    </tr>\n",
       "    <tr>\n",
       "      <th>4</th>\n",
       "      <td>[donniewahlberg, last, night, atlanta]</td>\n",
       "      <td>0</td>\n",
       "    </tr>\n",
       "  </tbody>\n",
       "</table>\n",
       "</div>"
      ],
      "text/plain": [
       "                                                text  Sentiment\n",
       "0  [wow, slept, almost, hour, sleepy, uni, boo, w...          0\n",
       "1          [get, bored, idea, easily, like, twitter]          0\n",
       "2  [girl, sorry, homebody, lately, dont, feel, we...          0\n",
       "3              [bk, weekend, wasnt, puppy, stay, as]          0\n",
       "4             [donniewahlberg, last, night, atlanta]          0"
      ]
     },
     "execution_count": 20,
     "metadata": {},
     "output_type": "execute_result"
    }
   ],
   "source": [
    "data_eda = pd.DataFrame()\n",
    "data_eda['text'] = final_corpus\n",
    "data_eda['Sentiment'] = df[\"Sentiment\"].values\n",
    "data_eda.head()"
   ]
  },
  {
   "cell_type": "code",
   "execution_count": 21,
   "metadata": {
    "execution": {
     "iopub.execute_input": "2022-12-30T05:40:53.737415Z",
     "iopub.status.busy": "2022-12-30T05:40:53.736810Z",
     "iopub.status.idle": "2022-12-30T05:40:53.787804Z",
     "shell.execute_reply": "2022-12-30T05:40:53.786804Z",
     "shell.execute_reply.started": "2022-12-30T05:40:53.737361Z"
    },
    "id": "EmnwOmF4il5P"
   },
   "outputs": [],
   "source": [
    "# Storing positive data seperately\n",
    "positive = data_eda[data_eda['Sentiment'] == 1]\n",
    "positive_list = positive['text'].tolist()\n",
    "\n",
    "# Storing negative data seperately\n",
    "\n",
    "negative = data_eda[data_eda['Sentiment'] == 0]\n",
    "negative_list = negative['text'].tolist()"
   ]
  },
  {
   "cell_type": "code",
   "execution_count": 22,
   "metadata": {
    "execution": {
     "iopub.execute_input": "2022-12-30T05:40:53.790449Z",
     "iopub.status.busy": "2022-12-30T05:40:53.789342Z",
     "iopub.status.idle": "2022-12-30T05:40:54.184163Z",
     "shell.execute_reply": "2022-12-30T05:40:54.182911Z",
     "shell.execute_reply.started": "2022-12-30T05:40:53.790403Z"
    },
    "id": "wd_vmljtly_1"
   },
   "outputs": [],
   "source": [
    "positive_all = \" \".join([word for sent in positive_list for word in sent ])\n",
    "negative_all = \" \".join([word for sent in negative_list for word in sent ])"
   ]
  },
  {
   "cell_type": "markdown",
   "metadata": {},
   "source": [
    "### Naive bayes for sentiment analysis"
   ]
  },
  {
   "cell_type": "code",
   "execution_count": 31,
   "metadata": {
    "execution": {
     "iopub.execute_input": "2022-12-30T05:41:38.300858Z",
     "iopub.status.busy": "2022-12-30T05:41:38.300171Z",
     "iopub.status.idle": "2022-12-30T05:41:38.307323Z",
     "shell.execute_reply": "2022-12-30T05:41:38.305962Z",
     "shell.execute_reply.started": "2022-12-30T05:41:38.300821Z"
    },
    "id": "RWVjjX1OcY9l"
   },
   "outputs": [],
   "source": [
    "def get_tweets_for_model(cleaned_tokens_list):\n",
    "    for tweet_tokens in cleaned_tokens_list:\n",
    "        yield dict([token, True] for token in tweet_tokens)\n",
    "\n",
    "positive_tokens_for_model = get_tweets_for_model(positive_list)\n",
    "negative_tokens_for_model = get_tweets_for_model(negative_list)"
   ]
  },
  {
   "cell_type": "code",
   "execution_count": 32,
   "metadata": {
    "colab": {
     "base_uri": "https://localhost:8080/"
    },
    "execution": {
     "iopub.execute_input": "2022-12-30T05:41:38.309252Z",
     "iopub.status.busy": "2022-12-30T05:41:38.308848Z",
     "iopub.status.idle": "2022-12-30T05:41:41.623794Z",
     "shell.execute_reply": "2022-12-30T05:41:41.622204Z",
     "shell.execute_reply.started": "2022-12-30T05:41:38.309219Z"
    },
    "id": "DQShZmh3cspj",
    "outputId": "a6337486-7230-4e9a-e931-2c375ea13e4d"
   },
   "outputs": [],
   "source": [
    "import random\n",
    "\n",
    "positive_dataset = [(review_dict, \"Positive\")\n",
    "                     for review_dict in positive_tokens_for_model]\n",
    "\n",
    "negative_dataset = [(review_dict, \"Negative\")\n",
    "                     for review_dict in negative_tokens_for_model]\n",
    "dataset = positive_dataset + negative_dataset\n",
    "\n",
    "random.shuffle(dataset)\n",
    "\n",
    "train_data = dataset[:333091]\n",
    "test_data = dataset[333091:]\n"
   ]
  },
  {
   "cell_type": "code",
   "execution_count": 33,
   "metadata": {
    "colab": {
     "base_uri": "https://localhost:8080/"
    },
    "execution": {
     "iopub.execute_input": "2022-12-30T05:41:41.626344Z",
     "iopub.status.busy": "2022-12-30T05:41:41.625872Z",
     "iopub.status.idle": "2022-12-30T05:42:26.629083Z",
     "shell.execute_reply": "2022-12-30T05:42:26.627797Z",
     "shell.execute_reply.started": "2022-12-30T05:41:41.626295Z"
    },
    "id": "OOBrMUVBc5bV",
    "outputId": "437b3656-3fbf-4e77-80c9-730564aef516"
   },
   "outputs": [
    {
     "name": "stdout",
     "output_type": "stream",
     "text": [
      " Training Accuracy is: 86.0\n",
      "Testing Accuracy is: 77.0\n",
      "Most Informative Features\n",
      "             squarespace = True           Negati : Positi =     62.9 : 1.0\n",
      "                    iran = True           Negati : Positi =     56.1 : 1.0\n",
      "                hotwords = True           Positi : Negati =     33.7 : 1.0\n",
      "                  farrah = True           Negati : Positi =     29.8 : 1.0\n",
      "                hayfever = True           Negati : Positi =     29.6 : 1.0\n",
      "                nooooooo = True           Negati : Positi =     28.9 : 1.0\n",
      "            followfriday = True           Positi : Negati =     27.2 : 1.0\n",
      "              devastated = True           Negati : Positi =     25.6 : 1.0\n",
      "              antibiotic = True           Negati : Positi =     24.3 : 1.0\n",
      "                 honored = True           Positi : Negati =     23.7 : 1.0\n",
      "None\n"
     ]
    }
   ],
   "source": [
    "from nltk import classify\n",
    "from nltk import NaiveBayesClassifier\n",
    "classifier = NaiveBayesClassifier.train(train_data)\n",
    "\n",
    "print(\" Training Accuracy is:\", round(classify.accuracy(classifier, train_data),2)*100)\n",
    "\n",
    "print(\"Testing Accuracy is:\", round(classify.accuracy(classifier, test_data),2)*100)\n",
    "\n",
    "print(classifier.show_most_informative_features(10))"
   ]
  },
  {
   "cell_type": "markdown",
   "metadata": {},
   "source": [
    "__TF-IDF (Term Frequency-Inverse Document Frequency):__\n",
    "TF-IDF is a numerical statistic that reflects the importance of a term in a document relative to a collection of documents. It's commonly used in text mining and information retrieval to represent the significance of terms in documents."
   ]
  },
  {
   "cell_type": "markdown",
   "metadata": {
    "id": "jvt-X0ZubmSr"
   },
   "source": [
    "### TFIDF for sentiment analysis"
   ]
  },
  {
   "cell_type": "code",
   "execution_count": 34,
   "metadata": {
    "execution": {
     "iopub.execute_input": "2022-12-30T05:42:26.631477Z",
     "iopub.status.busy": "2022-12-30T05:42:26.631031Z",
     "iopub.status.idle": "2022-12-30T05:42:33.157084Z",
     "shell.execute_reply": "2022-12-30T05:42:33.156018Z",
     "shell.execute_reply.started": "2022-12-30T05:42:26.631432Z"
    },
    "id": "wfvuQLZp3Cv-"
   },
   "outputs": [],
   "source": [
    "from sklearn.feature_extraction.text import TfidfVectorizer\n",
    "tfidf = TfidfVectorizer()\n",
    "vector = tfidf.fit_transform(data_cleaned['text'])\n",
    "y = data_cleaned['Sentiment']"
   ]
  },
  {
   "cell_type": "code",
   "execution_count": 35,
   "metadata": {
    "execution": {
     "iopub.execute_input": "2022-12-30T05:42:33.159677Z",
     "iopub.status.busy": "2022-12-30T05:42:33.158591Z",
     "iopub.status.idle": "2022-12-30T05:42:33.412111Z",
     "shell.execute_reply": "2022-12-30T05:42:33.410816Z",
     "shell.execute_reply.started": "2022-12-30T05:42:33.159640Z"
    },
    "id": "NKVufIEe20ye"
   },
   "outputs": [],
   "source": [
    "from sklearn.model_selection import train_test_split\n",
    "X_train, X_test, y_train, y_test = train_test_split(vector, \n",
    "                                                    y, \n",
    "                                                    test_size=0.33, \n",
    "                                                    random_state=42,\n",
    "                                                    stratify = y)"
   ]
  },
  {
   "cell_type": "code",
   "execution_count": 36,
   "metadata": {
    "execution": {
     "iopub.execute_input": "2022-12-30T05:42:33.414114Z",
     "iopub.status.busy": "2022-12-30T05:42:33.413702Z",
     "iopub.status.idle": "2022-12-30T05:42:33.420548Z",
     "shell.execute_reply": "2022-12-30T05:42:33.419317Z",
     "shell.execute_reply.started": "2022-12-30T05:42:33.414080Z"
    },
    "id": "wftKGU-L3Oet"
   },
   "outputs": [],
   "source": [
    "from sklearn.naive_bayes import MultinomialNB\n",
    "from sklearn.svm import LinearSVC\n",
    "from sklearn.metrics import ConfusionMatrixDisplay\n",
    "from sklearn.discriminant_analysis import LinearDiscriminantAnalysis\n",
    "from sklearn.metrics import accuracy_score,confusion_matrix,classification_report\n",
    "from sklearn.linear_model import LogisticRegression"
   ]
  },
  {
   "cell_type": "code",
   "execution_count": 37,
   "metadata": {
    "execution": {
     "iopub.execute_input": "2022-12-30T05:42:33.422372Z",
     "iopub.status.busy": "2022-12-30T05:42:33.422028Z",
     "iopub.status.idle": "2022-12-30T05:42:33.433850Z",
     "shell.execute_reply": "2022-12-30T05:42:33.432577Z",
     "shell.execute_reply.started": "2022-12-30T05:42:33.422342Z"
    },
    "id": "HuezohML34V7"
   },
   "outputs": [],
   "source": [
    "def metrics(y_train,y_train_pred,y_test,y_test_pred):\n",
    "  print(\"training accuracy = \",round(accuracy_score(y_train,y_train_pred),2)*100)\n",
    "  ConfusionMatrixDisplay.from_predictions(y_train,y_train_pred,normalize = 'all')\n",
    "  print(classification_report(y_train,y_train_pred))\n",
    "  plt.show()\n",
    "\n",
    "  print(\"testing accuracy = \",round(accuracy_score(y_test,y_test_pred),2)*100)\n",
    "  ConfusionMatrixDisplay.from_predictions(y_test,y_test_pred,normalize = 'all')\n",
    "  print(classification_report(y_test,y_test_pred))\n",
    "  plt.show()"
   ]
  },
  {
   "cell_type": "code",
   "execution_count": 38,
   "metadata": {
    "colab": {
     "base_uri": "https://localhost:8080/",
     "height": 906
    },
    "execution": {
     "iopub.execute_input": "2022-12-30T05:42:33.437467Z",
     "iopub.status.busy": "2022-12-30T05:42:33.435907Z",
     "iopub.status.idle": "2022-12-30T05:42:35.275325Z",
     "shell.execute_reply": "2022-12-30T05:42:35.274387Z",
     "shell.execute_reply.started": "2022-12-30T05:42:33.437417Z"
    },
    "id": "eTLmcfJA3Vmc",
    "outputId": "4de49b97-e5b1-4eaa-d16c-d4da4c71a310"
   },
   "outputs": [
    {
     "name": "stdout",
     "output_type": "stream",
     "text": [
      "training accuracy =  85.0\n",
      "              precision    recall  f1-score   support\n",
      "\n",
      "           0       0.83      0.88      0.85    166545\n",
      "           1       0.87      0.82      0.85    166546\n",
      "\n",
      "    accuracy                           0.85    333091\n",
      "   macro avg       0.85      0.85      0.85    333091\n",
      "weighted avg       0.85      0.85      0.85    333091\n",
      "\n"
     ]
    },
    {
     "data": {
      "image/png": "[encoded data removed]",
      "text/plain": [
       "<Figure size 640x480 with 2 Axes>"
      ]
     },
     "metadata": {},
     "output_type": "display_data"
    },
    {
     "name": "stdout",
     "output_type": "stream",
     "text": [
      "testing accuracy =  76.0\n",
      "              precision    recall  f1-score   support\n",
      "\n",
      "           0       0.75      0.80      0.77     82031\n",
      "           1       0.78      0.73      0.75     82030\n",
      "\n",
      "    accuracy                           0.76    164061\n",
      "   macro avg       0.76      0.76      0.76    164061\n",
      "weighted avg       0.76      0.76      0.76    164061\n",
      "\n"
     ]
    },
    {
     "data": {
      "image/png": "[encoded data removed]",
      "text/plain": [
       "<Figure size 640x480 with 2 Axes>"
      ]
     },
     "metadata": {},
     "output_type": "display_data"
    }
   ],
   "source": [
    "NB = MultinomialNB()\n",
    "NB.fit(X_train,y_train)\n",
    "y_train_pred = NB.predict(X_train)\n",
    "y_test_pred = NB.predict(X_test)\n",
    "metrics(y_train,y_train_pred,y_test,y_test_pred)"
   ]
  },
  {
   "cell_type": "code",
   "execution_count": 39,
   "metadata": {
    "colab": {
     "base_uri": "https://localhost:8080/",
     "height": 909
    },
    "execution": {
     "iopub.execute_input": "2022-12-30T05:42:35.277813Z",
     "iopub.status.busy": "2022-12-30T05:42:35.276584Z",
     "iopub.status.idle": "2022-12-30T05:42:42.717947Z",
     "shell.execute_reply": "2022-12-30T05:42:42.716793Z",
     "shell.execute_reply.started": "2022-12-30T05:42:35.277774Z"
    },
    "id": "Tam8hBP_3Ypl",
    "outputId": "2c4aa78f-aa47-4834-c944-21c939207ce0"
   },
   "outputs": [
    {
     "name": "stderr",
     "output_type": "stream",
     "text": [
      "c:\\Users\\achin\\anaconda3\\Lib\\site-packages\\sklearn\\svm\\_classes.py:32: FutureWarning: The default value of `dual` will change from `True` to `'auto'` in 1.5. Set the value of `dual` explicitly to suppress the warning.\n",
      "  warnings.warn(\n"
     ]
    },
    {
     "name": "stdout",
     "output_type": "stream",
     "text": [
      "training accuracy =  90.0\n",
      "              precision    recall  f1-score   support\n",
      "\n",
      "           0       0.90      0.90      0.90    166545\n",
      "           1       0.90      0.90      0.90    166546\n",
      "\n",
      "    accuracy                           0.90    333091\n",
      "   macro avg       0.90      0.90      0.90    333091\n",
      "weighted avg       0.90      0.90      0.90    333091\n",
      "\n"
     ]
    },
    {
     "data": {
      "image/png": "[encoded data removed]",
      "text/plain": [
       "<Figure size 640x480 with 2 Axes>"
      ]
     },
     "metadata": {},
     "output_type": "display_data"
    },
    {
     "name": "stdout",
     "output_type": "stream",
     "text": [
      "testing accuracy =  77.0\n",
      "              precision    recall  f1-score   support\n",
      "\n",
      "           0       0.78      0.76      0.77     82031\n",
      "           1       0.76      0.78      0.77     82030\n",
      "\n",
      "    accuracy                           0.77    164061\n",
      "   macro avg       0.77      0.77      0.77    164061\n",
      "weighted avg       0.77      0.77      0.77    164061\n",
      "\n"
     ]
    },
    {
     "data": {
      "image/png": "[encoded data removed]",
      "text/plain": [
       "<Figure size 640x480 with 2 Axes>"
      ]
     },
     "metadata": {},
     "output_type": "display_data"
    }
   ],
   "source": [
    "svc = LinearSVC()\n",
    "svc.fit(X_train,y_train)\n",
    "y_train_pred = svc.predict(X_train)\n",
    "y_test_pred = svc.predict(X_test)\n",
    "metrics(y_train,y_train_pred,y_test,y_test_pred)\n"
   ]
  },
  {
   "cell_type": "markdown",
   "metadata": {
    "id": "8Gmkhvi3PL4m"
   },
   "source": [
    "### Logistic regression"
   ]
  },
  {
   "cell_type": "markdown",
   "metadata": {
    "id": "h0e4sdQiLf0g"
   },
   "source": [
    "## Conclusion\n",
    "\n",
    "|Model|Training Accuracy|Testing Accuracy|\n",
    "|---|---|---|\n",
    "|Naive Bayes|86%|76%|\n",
    "|Multinomial NB| 85%|76%|\n",
    "|linear SVC|90%|77%|\n",
    "|Logistic|83%|78%|\n"
   ]
  },
  {
   "cell_type": "markdown",
   "metadata": {
    "id": "0thmfOokL1sJ"
   },
   "source": [
    "\n",
    "\n",
    "We see that Logistic regression model performs best with least overfitting as compared to other models and has better performance in testing dataset as well"
   ]
  }
 ],
 "metadata": {
  "colab": {
   "provenance": []
  },
  "kernelspec": {
   "display_name": "Python 3 (ipykernel)",
   "language": "python",
   "name": "python3"
  },
  "language_info": {
   "codemirror_mode": {
    "name": "ipython",
    "version": 3
   },
   "file_extension": ".py",
   "mimetype": "text/x-python",
   "name": "python",
   "nbconvert_exporter": "python",
   "pygments_lexer": "ipython3",
   "version": "3.11.5"
  }
 },
 "nbformat": 4,
 "nbformat_minor": 4
}
